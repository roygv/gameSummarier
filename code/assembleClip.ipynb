{
 "cells": [
  {
   "cell_type": "code",
   "execution_count": 1,
   "metadata": {},
   "outputs": [
    {
     "name": "stdout",
     "output_type": "stream",
     "text": [
      "Wall time: 4.1 s\n"
     ]
    }
   ],
   "source": [
    "%%time\n",
    "from moviepy.video.io.ffmpeg_tools import ffmpeg_extract_subclip\n",
    "import pandas as pd\n",
    "import numpy as np\n",
    "import scipy.io.wavfile\n",
    "from scipy import fftpack\n",
    "\n",
    "import matplotlib.pyplot as plt\n",
    "import matplotlib.style as ms\n",
    "ms.use('seaborn-muted')\n",
    "%matplotlib inline\n",
    "\n",
    "from os import sep\n",
    "from os.path import isfile, join, abspath, expanduser\n",
    "from moviepy.editor import AudioFileClip, VideoFileClip, concatenate_videoclips, concatenate_audioclips\n",
    "\n",
    "from sklearn.decomposition import PCA\n",
    "from ggplot import *"
   ]
  },
  {
   "cell_type": "code",
   "execution_count": 2,
   "metadata": {},
   "outputs": [
    {
     "name": "stdout",
     "output_type": "stream",
     "text": [
      "7  events loaded\n"
     ]
    }
   ],
   "source": [
    "home = expanduser(\"~\")\n",
    "dirpath = join(home,\"Downloads\",\"videos\")\n",
    "file_basename = 'MON_V_MONT_1H_ESP'\n",
    "eventFileName = join(dirpath, file_basename+'.csv')\n",
    "event_data = pd.read_csv(eventFileName, sep=',',header=0)\n",
    "print(len(event_data),' events loaded')\n"
   ]
  },
  {
   "cell_type": "code",
   "execution_count": 3,
   "metadata": {
    "collapsed": true
   },
   "outputs": [],
   "source": [
    "# Compute offset of each clip in the new clips collection and add to DataFrame\n",
    "offset=np.cumsum(event_data[\"timeToCapture\"])\n",
    "event_data[\"offset\"]=offset-event_data[\"timeToCapture\"]\n",
    "# Prepare a list of labels\n",
    "labels=[row[\"eventName\"] \n",
    "        for index,row in event_data.iterrows() \n",
    "        for i in np.arange(row[\"offset\"],row[\"offset\"]+row[\"timeToCapture\"])]"
   ]
  },
  {
   "cell_type": "markdown",
   "metadata": {},
   "source": [
    "# Concatenate video clips using videoPy\n"
   ]
  },
  {
   "cell_type": "code",
   "execution_count": 7,
   "metadata": {},
   "outputs": [
    {
     "name": "stdout",
     "output_type": "stream",
     "text": [
      "[MoviePy] >>>> Building video C:\\Users\\Roy\\Downloads\\videos\\MON_V_MONT_1H_ESP_highlight.mp4\n",
      "[MoviePy] Writing audio in MON_V_MONT_1H_ESP_highlightTEMP_MPY_wvf_snd.mp3\n"
     ]
    },
    {
     "name": "stderr",
     "output_type": "stream",
     "text": [
      "100%|████████████████████████████████████████████████████████████████████████████| 4785/4785 [00:04<00:00, 1140.74it/s]\n"
     ]
    },
    {
     "name": "stdout",
     "output_type": "stream",
     "text": [
      "[MoviePy] Done.\n",
      "[MoviePy] Writing video C:\\Users\\Roy\\Downloads\\videos\\MON_V_MONT_1H_ESP_highlight.mp4\n"
     ]
    },
    {
     "name": "stderr",
     "output_type": "stream",
     "text": [
      "100%|█████████████████████████████████████████████████████████████████████████████▉| 5425/5426 [01:15<00:00, 71.42it/s]\n"
     ]
    },
    {
     "name": "stdout",
     "output_type": "stream",
     "text": [
      "[MoviePy] Done.\n",
      "[MoviePy] >>>> Video ready: C:\\Users\\Roy\\Downloads\\videos\\MON_V_MONT_1H_ESP_highlight.mp4 \n",
      "\n",
      "Wall time: 1min 23s\n"
     ]
    }
   ],
   "source": [
    "%%time\n",
    "clips=[]\n",
    "#fade_duration = 1 # 1-second fade-in for each clip\n",
    "for index, row in event_data.iterrows():\n",
    "    #print row['secondOffset'], row['timeToCapture']\n",
    "    videoFileName = join(dirpath, row['fileName'])\n",
    "    if isfile(videoFileName):\n",
    "        videoClip = VideoFileClip(videoFileName).subclip(row['secondOffset'],row['secondOffset']+row['timeToCapture'])\n",
    "        # clips.append(videoClip.crossfadein(fade_duration))\n",
    "        clips.append(videoClip)\n",
    "    else:\n",
    "        print ('Could not find file ', videoFileName)\n",
    "    \n",
    "# final_clip = concatenate_videoclips(clips, padding = fade_duration)\n",
    "final_clip = concatenate_videoclips(clips)\n",
    "final_clip.write_videofile(join(dirpath, file_basename+\"_highlight.mp4\"))"
   ]
  },
  {
   "cell_type": "code",
   "execution_count": null,
   "metadata": {
    "collapsed": true
   },
   "outputs": [],
   "source": []
  }
 ],
 "metadata": {
  "kernelspec": {
   "display_name": "Python 3",
   "language": "python",
   "name": "python3"
  },
  "language_info": {
   "codemirror_mode": {
    "name": "ipython",
    "version": 3
   },
   "file_extension": ".py",
   "mimetype": "text/x-python",
   "name": "python",
   "nbconvert_exporter": "python",
   "pygments_lexer": "ipython3",
   "version": "3.6.1"
  }
 },
 "nbformat": 4,
 "nbformat_minor": 2
}
