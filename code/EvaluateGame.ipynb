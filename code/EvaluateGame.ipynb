{
 "cells": [
  {
   "cell_type": "code",
   "execution_count": 1,
   "metadata": {},
   "outputs": [
    {
     "name": "stdout",
     "output_type": "stream",
     "text": [
      "Wall time: 4.88 s\n"
     ]
    }
   ],
   "source": [
    "%%time\n",
    "from moviepy.video.io.ffmpeg_tools import ffmpeg_extract_subclip\n",
    "import pandas as pd\n",
    "import numpy as np\n",
    "import scipy.io.wavfile\n",
    "from scipy import fftpack\n",
    "\n",
    "import matplotlib.pyplot as plt\n",
    "import matplotlib.style as ms\n",
    "ms.use('seaborn-muted')\n",
    "%matplotlib inline\n",
    "\n",
    "from os import sep, makedirs\n",
    "from os.path import isfile, join, abspath, expanduser, exists\n",
    "from moviepy.editor import AudioFileClip, VideoFileClip\n",
    "#from moviepy.video.io.VideoFileClip import VideoFileClip, AudioFileClip\n",
    "\n",
    "from sklearn.decomposition import PCA\n",
    "from sklearn.externals import joblib\n",
    "from ggplot import *\n",
    "from datetime import timedelta\n",
    "import scenedetect"
   ]
  },
  {
   "cell_type": "markdown",
   "metadata": {},
   "source": [
    "# Load model, load video into a byte array, perform FFT"
   ]
  },
  {
   "cell_type": "code",
   "execution_count": 2,
   "metadata": {
    "collapsed": true
   },
   "outputs": [],
   "source": [
    "home = expanduser(\"~\")\n",
    "dirpath = join(home,\"Downloads\",\"videos\")\n",
    "file_basename = 'test_cry_che_1st_half_eng'\n",
    "videoFileName = join(dirpath, file_basename+'.mp4')\n",
    "maxClipLength = 6 # Minutes\n",
    "model = joblib.load('model_gra.pkl') \n",
    "#model = joblib.load('model_knn.pkl') \n",
    "pca_model = joblib.load('model_pca.pkl') "
   ]
  },
  {
   "cell_type": "code",
   "execution_count": 3,
   "metadata": {},
   "outputs": [
    {
     "name": "stdout",
     "output_type": "stream",
     "text": [
      "Video duration: 0:47:37, fps: 30.3, audio sample rate 44100\n",
      "Wall time: 1min 9s\n"
     ]
    }
   ],
   "source": [
    "%%time\n",
    "F = []\n",
    "#print row['secondOffset'], row['timeToCapture']\n",
    "if isfile(videoFileName):\n",
    "    videoClip = VideoFileClip(videoFileName)\n",
    "    fps = videoClip.fps\n",
    "    audioClip = AudioFileClip(videoFileName)\n",
    "    samprate = audioClip.fps\n",
    "    print('Video duration: {0}, fps: {1}, audio sample rate {2}'.format(timedelta(seconds=round(audioClip.duration)), fps, samprate))\n",
    "    wavClip = audioClip.to_soundarray(fps=samprate)\n",
    "    wavClip = wavClip[:samprate*int(audioClip.duration),]\n",
    "    wavdata = wavClip.reshape(-1, samprate,  2)\n",
    "    dims = wavdata.shape\n",
    "    for sec in np.arange(dims[0]):\n",
    "        ch1 = scipy.fftpack.fft(wavdata[sec,:,0])[:samprate//2] # Left channel\n",
    "        ch2 = scipy.fftpack.fft(wavdata[sec,:,1])[:samprate//2] # Right channel\n",
    "        ch = np.vstack([ch1,ch2])\n",
    "        F.append(ch)\n",
    "#    del audioClip, videoClip\n",
    "else:\n",
    "    print('Could not find file ', videoFileName)\n",
    "\n",
    "F = np.absolute(F)/samprate\n",
    "F_db = 20*np.log10(2*F)  # Dimensions are (seconds, channels, samples)\n",
    "f = scipy.fftpack.fftfreq(samprate, 1.0/samprate)[:samprate//2]"
   ]
  },
  {
   "cell_type": "markdown",
   "metadata": {},
   "source": [
    "# Predict each second's likelihood of being interesting"
   ]
  },
  {
   "cell_type": "code",
   "execution_count": 4,
   "metadata": {},
   "outputs": [
    {
     "name": "stdout",
     "output_type": "stream",
     "text": [
      "(2857, 2, 22050)\n",
      "(2857, 44100)\n"
     ]
    }
   ],
   "source": [
    "print(F_db.shape)\n",
    "F2 = F.reshape(F_db.shape[0],-1)\n",
    "print (F2.shape)"
   ]
  },
  {
   "cell_type": "code",
   "execution_count": 5,
   "metadata": {},
   "outputs": [
    {
     "name": "stdout",
     "output_type": "stream",
     "text": [
      "(2857, 170)\n",
      "(2857, 3)\n",
      "(2857,)\n",
      "Wall time: 8.99 s\n"
     ]
    }
   ],
   "source": [
    "%%time\n",
    "index=np.array(np.arange(F2.shape[0]))\n",
    "data= pca_model.transform(F2)\n",
    "N=8 # Running average span\n",
    "print(data.shape)\n",
    "\n",
    "predicted_labels = model.predict(data)\n",
    "predicted_proba = model.predict_proba(data)\n",
    "# Calcualte running average\n",
    "running_predicted_labels = pd.rolling_mean(predicted_proba[:,0]+predicted_proba[:,1], N) # 0 means \"goal\", 1 is \"near miss\". \n",
    "# Assign the value to the first second.\n",
    "running_predicted_labels = np.concatenate((running_predicted_labels[N-1:,], \n",
    "                     np.array([np.average(predicted_proba[-i:,0]+predicted_proba[-i:,1]) for i in np.arange(N-1,0,-1)])))\n",
    "print(predicted_proba.shape)\n",
    "print(running_predicted_labels.shape)\n"
   ]
  },
  {
   "cell_type": "code",
   "execution_count": 6,
   "metadata": {
    "collapsed": true
   },
   "outputs": [],
   "source": [
    "def on_plot_hover(event):\n",
    "    for curve in plot.get_lines():\n",
    "        if curve.contains(event)[0]:\n",
    "            print(\"over %s\" % curve.get_gid())\n",
    "            \n",
    "def plotGame(i,g):\n",
    "    fig = plt.figure(figsize=(15, 6))\n",
    "    plot = plt.plot(i/60,g, alpha=0.5)\n",
    "    fig.canvas.mpl_connect('motion_notify_event', on_plot_hover)           \n",
    "    plt.xlabel('Game Minutes')\n",
    "    plt.ylabel('Goal Likelihood')\n",
    "    plt.show()"
   ]
  },
  {
   "cell_type": "code",
   "execution_count": 7,
   "metadata": {},
   "outputs": [
    {
     "data": {
      "image/png": "[encoded data removed]",
      "text/plain": [
       "<matplotlib.figure.Figure at 0x1b0a0ed3c18>"
      ]
     },
     "metadata": {},
     "output_type": "display_data"
    },
    {
     "name": "stdout",
     "output_type": "stream",
     "text": [
      "Total video length: 0:47:37\n"
     ]
    }
   ],
   "source": [
    "plotGame(index, running_predicted_labels)\n",
    "print(\"Total video length:\", timedelta(seconds=len(running_predicted_labels)))"
   ]
  },
  {
   "cell_type": "markdown",
   "metadata": {},
   "source": [
    "# Determine distinct events"
   ]
  },
  {
   "cell_type": "code",
   "execution_count": null,
   "metadata": {},
   "outputs": [
    {
     "name": "stdout",
     "output_type": "stream",
     "text": [
      "Wall time: 79 ms\n"
     ]
    }
   ],
   "source": [
    "%%time\n",
    "from cv2 import ORB_create, xfeatures2d, imread\n",
    "\n",
    "indexed_running_predicted_labels = np.argsort(running_predicted_labels)\n",
    "eventsFounds = 0\n",
    "events = []\n",
    "gameMeanLikelihood = np.mean(running_predicted_labels)\n",
    "#for idx in reversed(indexed_running_predicted_labels[:len(running_predicted_labels)-(N-1)]):\n",
    "for idx in reversed(indexed_running_predicted_labels):\n",
    "    found=False\n",
    "    for e in events:\n",
    "        if idx >= e[\"start\"] and idx-5 <= e[\"end\"]:\n",
    "            if found == True:\n",
    "                remember_e=e[\"end\"]\n",
    "                remember_s=e[\"start\"]\n",
    "                events.remove(e)\n",
    "                for e2 in events:\n",
    "                    if  idx >= e2[\"start\"] and idx-5 <= e2[\"end\"]:\n",
    "                        e2[\"start\"] = min(e2[\"start\"],remember_s)\n",
    "                        e2[\"end\"] = max(e2[\"end\"],remember_e)\n",
    "            else:\n",
    "                if idx > e[\"end\"] and running_predicted_labels[idx] <= running_predicted_labels[e[\"end\"]]:\n",
    "                    e[\"end\"] = idx\n",
    "                found=True\n",
    "        elif idx+1 == e[\"start\"] and running_predicted_labels[idx] <= running_predicted_labels[e[\"start\"]]:\n",
    "            e[\"start\"] = idx\n",
    "            if found == True:\n",
    "                remember=e[\"end\"]\n",
    "                events.remove(e)\n",
    "                for e2 in events:\n",
    "                    if e2[\"end\"] == idx:\n",
    "                        e2[\"end\"] = remember\n",
    "            else:\n",
    "                found=True\n",
    "        elif idx-1 == e[\"end\"] and running_predicted_labels[idx] <= running_predicted_labels[e[\"end\"]]:\n",
    "            e[\"end\"] = idx\n",
    "            if found == True:\n",
    "                remember=e[\"start\"]\n",
    "                events.remove(e)\n",
    "                for e2 in events:\n",
    "                    if e2[\"start\"] == idx:\n",
    "                        e2[\"start\"] = remember\n",
    "            else:\n",
    "                found=True\n",
    "    if found == False:\n",
    "        eventsFounds+=1\n",
    "        event={\"peak\" : idx, \"value\" : running_predicted_labels[idx],\"start\" : idx, \"end\" : idx}\n",
    "        events.append(event)\n",
    "    if running_predicted_labels[idx] <= gameMeanLikelihood:\n",
    "        break\n"
   ]
  },
  {
   "cell_type": "markdown",
   "metadata": {},
   "source": [
    "# Extract clips of top 15 events"
   ]
  },
  {
   "cell_type": "code",
   "execution_count": null,
   "metadata": {},
   "outputs": [
    {
     "name": "stdout",
     "output_type": "stream",
     "text": [
      "[MoviePy] >>>> Building video C:\\Users\\Roy\\Downloads\\videos\\test_cry_che_1st_half_eng\\scene0.mp4\n",
      "[MoviePy] Writing audio in scene0TEMP_MPY_wvf_snd.mp3\n"
     ]
    },
    {
     "name": "stderr",
     "output_type": "stream",
     "text": [
      "100%|█████████████████████████████████████████████████████████████████████████████| 1235/1235 [00:01<00:00, 709.36it/s]\n"
     ]
    },
    {
     "name": "stdout",
     "output_type": "stream",
     "text": [
      "[MoviePy] Done.\n",
      "[MoviePy] Writing video C:\\Users\\Roy\\Downloads\\videos\\test_cry_che_1st_half_eng\\scene0.mp4\n"
     ]
    },
    {
     "name": "stderr",
     "output_type": "stream",
     "text": [
      "100%|██████████████████████████████████████████████████████████████████████████████| 1697/1697 [01:05<00:00, 25.74it/s]\n"
     ]
    },
    {
     "name": "stdout",
     "output_type": "stream",
     "text": [
      "[MoviePy] Done.\n",
      "[MoviePy] >>>> Video ready: C:\\Users\\Roy\\Downloads\\videos\\test_cry_che_1st_half_eng\\scene0.mp4 \n",
      "\n",
      "[MoviePy] >>>> Building video C:\\Users\\Roy\\Downloads\\videos\\test_cry_che_1st_half_eng\\scene1.mp4\n",
      "[MoviePy] Writing audio in scene1TEMP_MPY_wvf_snd.mp3\n"
     ]
    },
    {
     "name": "stderr",
     "output_type": "stream",
     "text": [
      "100%|█████████████████████████████████████████████████████████████████████████████| 1412/1412 [00:01<00:00, 739.85it/s]\n"
     ]
    },
    {
     "name": "stdout",
     "output_type": "stream",
     "text": [
      "[MoviePy] Done.\n",
      "[MoviePy] Writing video C:\\Users\\Roy\\Downloads\\videos\\test_cry_che_1st_half_eng\\scene1.mp4\n"
     ]
    },
    {
     "name": "stderr",
     "output_type": "stream",
     "text": [
      "100%|██████████████████████████████████████████████████████████████████████████████| 1940/1940 [01:06<00:00, 29.22it/s]\n"
     ]
    },
    {
     "name": "stdout",
     "output_type": "stream",
     "text": [
      "[MoviePy] Done.\n",
      "[MoviePy] >>>> Video ready: C:\\Users\\Roy\\Downloads\\videos\\test_cry_che_1st_half_eng\\scene1.mp4 \n",
      "\n",
      "[MoviePy] >>>> Building video C:\\Users\\Roy\\Downloads\\videos\\test_cry_che_1st_half_eng\\scene2.mp4\n",
      "[MoviePy] Writing audio in scene2TEMP_MPY_wvf_snd.mp3\n"
     ]
    },
    {
     "name": "stderr",
     "output_type": "stream",
     "text": [
      "100%|███████████████████████████████████████████████████████████████████████████████| 552/552 [00:00<00:00, 641.86it/s]\n"
     ]
    },
    {
     "name": "stdout",
     "output_type": "stream",
     "text": [
      "[MoviePy] Done.\n",
      "[MoviePy] Writing video C:\\Users\\Roy\\Downloads\\videos\\test_cry_che_1st_half_eng\\scene2.mp4\n"
     ]
    },
    {
     "name": "stderr",
     "output_type": "stream",
     "text": [
      "100%|████████████████████████████████████████████████████████████████████████████████| 758/758 [00:20<00:00, 36.44it/s]\n"
     ]
    },
    {
     "name": "stdout",
     "output_type": "stream",
     "text": [
      "[MoviePy] Done.\n",
      "[MoviePy] >>>> Video ready: C:\\Users\\Roy\\Downloads\\videos\\test_cry_che_1st_half_eng\\scene2.mp4 \n",
      "\n",
      "[MoviePy] >>>> Building video C:\\Users\\Roy\\Downloads\\videos\\test_cry_che_1st_half_eng\\scene3.mp4\n",
      "[MoviePy] Writing audio in scene3TEMP_MPY_wvf_snd.mp3\n"
     ]
    },
    {
     "name": "stderr",
     "output_type": "stream",
     "text": [
      "100%|█████████████████████████████████████████████████████████████████████████████| 1522/1522 [00:01<00:00, 761.76it/s]\n"
     ]
    },
    {
     "name": "stdout",
     "output_type": "stream",
     "text": [
      "[MoviePy] Done.\n",
      "[MoviePy] Writing video C:\\Users\\Roy\\Downloads\\videos\\test_cry_che_1st_half_eng\\scene3.mp4\n"
     ]
    },
    {
     "name": "stderr",
     "output_type": "stream",
     "text": [
      " 94%|███████████████████████████████████████████████████████████████████████▎    | 1962/2091 [16:08<3:26:37, 96.10s/it]                                                                                                                       "
     ]
    }
   ],
   "source": [
    "clipDir=join(dirpath, file_basename)\n",
    "if not exists(clipDir):\n",
    "    makedirs(clipDir)\n",
    "for idx, event in enumerate(events[:10]):\n",
    "    eventClip = VideoFileClip(videoFileName).subclip(event['start'],event['end'])\n",
    "    eventClip.write_videofile(join(clipDir, \"scene\"+str(idx)+\".mp4\"))\n",
    "    del eventClip.reader\n",
    "    del eventClip"
   ]
  },
  {
   "cell_type": "markdown",
   "metadata": {},
   "source": [
    "# Use scene detection to pick better start/stop per event\n",
    "## Cut the clip after maxClipLength minutes"
   ]
  },
  {
   "cell_type": "code",
   "execution_count": null,
   "metadata": {},
   "outputs": [],
   "source": [
    "%%time\n",
    "# Prepare parameters for scene detection        \n",
    "detector_list = [\n",
    "   scenedetect.detectors.ContentDetector(threshold = 30, min_scene_len = 8),\n",
    "   scenedetect.detectors.ThresholdDetector(threshold = 70, min_percent = 0.9)\n",
    "]        \n",
    "\n",
    "# Prepare objects for SURF (cound number of objects in a sample frame from each scene) \n",
    "orb = ORB_create()\n",
    "surf = xfeatures2d.SURF_create(hessianThreshold=10000, nOctaves=15, upright=1)\n",
    "clipTotal = 0\n",
    "for idx, event in enumerate(events[:10]):\n",
    "#    print(\"Peak:\",timedelta(seconds=int(event['peak'])),\"Value:\",event['value'],chr(9),timedelta(seconds=int(event['start'])),'-',timedelta(seconds=int(event['end'])))\n",
    "#     if idx<=5: #temp for debug\n",
    "#         print(\"Peak:\",timedelta(seconds=int(event['peak'])),\"Value:\",event['value'],chr(9),\n",
    "#           timedelta(seconds=int(event['start'])),'-',timedelta(seconds=int(event['end'])))\n",
    "#         continue\n",
    "    # If this clip overlaps with a previous clip - skip it\n",
    "    if len([1 for i in np.arange(idx) if event['start'] < events[i]['clipEndMs']/1000 \n",
    "                    and event['end'] > events[i]['clipStartMs']/1000]) > 0:\n",
    "        break\n",
    "    scene_list = []\n",
    "    video_framerate, frames_read = scenedetect.detect_scenes_file(\n",
    "                    videoFileName, scene_list, detector_list, frame_skip = 0, downscale_factor = 3, \n",
    "                    timecode_list=[round((int(events[idx]['start'])-30)*fps),round((int(events[idx]['end'])+60)*fps),-1])\n",
    "\n",
    "    # create new list with scene boundaries in milliseconds instead of frame #.\n",
    "    scene_list_msec = sorted([(1000 * x) / float(video_framerate) for x in scene_list])\n",
    "    events[idx][\"clipStartMs\"]=int(event['start'])*1000\n",
    "    events[idx][\"clipEndMs\"]=int(event['end'])*1000\n",
    "    for sceneIdx, scene in enumerate(scene_list_msec[:-1]):\n",
    "        if event['peak'] - scene/1000 > 30:\n",
    "                events[idx][\"clipStartMs\"]=scene_list_msec[sceneIdx]\n",
    "        else:\n",
    "                events[idx][\"clipEndMs\"]=scene_list_msec[sceneIdx]\n",
    "        fPath=join(dirpath,\"event{:d}-frame{:d}.jpg\".format(idx,sceneIdx))\n",
    "        videoClip.save_frame(fPath, t=scene/1000.0+0.25)\n",
    "        img = imread(fPath,0)\n",
    "        kp, des = surf.detectAndCompute(img,None)\n",
    "        # Make sure all the original clip is in, end with a scene with manu objects (replay?) after audio had settled \n",
    "        if scene/1000 > event['end'] and len(kp) > 100 and running_predicted_labels[event['end']] <= gameMeanLikelihood: \n",
    "            break\n",
    "        # If this scene gets us past maxClipLength then break\n",
    "        if clipTotal + int(event['clipEndMs']-event['clipStartMs'])/1000 >= maxClipLength * 60:\n",
    "            break\n",
    "    print(\"Peak:\",timedelta(seconds=int(event['peak'])),\"Value:\",event['value'],\"Scenes:\",len(scene_list_msec),chr(9),\n",
    "          timedelta(seconds=int(event['start'])),'-',timedelta(seconds=int(event['end'])),chr(9),\n",
    "          timedelta(seconds=int(event['clipStartMs']/1000)),'-',timedelta(seconds=int(event['clipEndMs']/1000)),\n",
    "         )\n",
    "    clipTotal += int(event['clipEndMs']-event['clipStartMs'])/1000\n",
    "    if clipTotal >= maxClipLength * 60: \n",
    "        break\n"
   ]
  },
  {
   "cell_type": "markdown",
   "metadata": {},
   "source": [
    "# Write summary clips index file to a CSV"
   ]
  },
  {
   "cell_type": "code",
   "execution_count": null,
   "metadata": {
    "scrolled": true
   },
   "outputs": [],
   "source": [
    "secondOffset=[]\n",
    "timeToCapture=[]\n",
    "for i in np.arange(10):\n",
    "    if 'clipStartMs' in events[i]:\n",
    "        secondOffset.append(events[i][\"clipStartMs\"]/1000)\n",
    "        timeToCapture.append((events[i][\"clipEndMs\"]-events[i][\"clipStartMs\"])/1000)\n",
    "        #df.append({videoFileName,events[i][\"clipStartMs\"]/1000,,(events[i][\"clipEndMs\"]-events[i][\"clipStartMs\"])/1000})\n",
    "        print(events[i])\n",
    "df=pd.DataFrame({'fileName':videoFileName,'secondOffset':secondOffset,'eventName':'goal','timeToCapture':timeToCapture},\n",
    "               columns=['fileName','secondOffset','eventName','timeToCapture'])\n",
    "df.sort_index(axis=0, by='secondOffset',inplace=True)\n",
    "df.to_csv(videoFileName.replace('.mp4','.csv'), index=False)"
   ]
  },
  {
   "cell_type": "markdown",
   "metadata": {},
   "source": [
    "# Below here is debug code"
   ]
  },
  {
   "cell_type": "code",
   "execution_count": null,
   "metadata": {
    "collapsed": true
   },
   "outputs": [],
   "source": [
    "%%time\n",
    "# scenedetect -i mag_dor_1st_half_eng.mp4 -d content -t 28 -st 152s -et 231s -co scenes.csv -fs 1 -p 85 -df 3 -q\n",
    "\n",
    "eventIdx=8\n",
    "scene_list = []        # Scenes will be added to this list in detect_scenes().\n",
    "\n",
    "# Usually use one detector, but multiple can be used.\n",
    "# scenedetect.detectors.ThresholdDetector(threshold = 8, min_percent = 0.85)\n",
    "detector_list = [\n",
    "   scenedetect.detectors.ContentDetector(threshold = 30, min_scene_len = 8),\n",
    "   scenedetect.detectors.ThresholdDetector(threshold = 70, min_percent = 0.9)\n",
    "]\n",
    "\n",
    "# videoFileName='/Users/Roy/Downloads/videos/MON_V_MONT_1H_ESP_highlight.mp4'\n",
    "video_framerate, frames_read = scenedetect.detect_scenes_file(\n",
    "#    videoFileName, scene_list, detector_list, frame_skip = 3, downscale_factor = 3, timecode_list=[112*fps,172*fps,-1])\n",
    "    videoFileName, scene_list, detector_list, frame_skip = 0, downscale_factor = 3, \n",
    "                    timecode_list=[round((int(events[eventIdx]['start'])-30)*fps),round((int(events[eventIdx]['end'])+90)*fps),-1])\n",
    "\n",
    "# scene_list now contains the frame numbers of scene boundaries.\n",
    "print([s/video_framerate for s in scene_list])\n",
    "\n",
    "# create new list with scene boundaries in milliseconds instead of frame #.\n",
    "scene_list_msec = sorted([(1000.0 * x) / float(video_framerate) for x in scene_list])\n",
    "\n",
    "# create new list with scene boundaries in timecode strings (\"HH:MM:SS.nnn\").\n",
    "scene_list_tc = [scenedetect.timecodes.get_string(x) for x in scene_list_msec]\n",
    "print(scene_list_tc)\n",
    "print(\"# scenes: {0}\".format(len(scene_list_tc)))\n"
   ]
  },
  {
   "cell_type": "markdown",
   "metadata": {},
   "source": [
    "ContentDetector:\n",
    "\n",
    "Threshold=28, frame_skip=2, downscale_factor=3, scenes=66\n",
    "\n",
    "Threshold=30, frame_skip=2, downscale_factor=3, scenes=44\n",
    "\n",
    "Threshold=31, frame_skip=2, downscale_factor=3, scenes=38\n",
    "\n",
    "Threshold=31, frame_skip=1, downscale_factor=3, scenes=21\n",
    "\n",
    "Threshold=31, frame_skip=0, downscale_factor=3, scenes=10\n",
    "\n",
    "Threshold=30, frame_skip=0, downscale_factor=3, scenes=12\n",
    "\n",
    "Threshold=28, frame_skip=0, downscale_factor=3, scenes=15\n",
    "\n",
    "ThresholdDetector:\n",
    "\n",
    "Threshold=60, min_percent = 0.5, frame_skip=0, downscale_factor=3, scenes=12\n",
    "\n",
    "Threshold=70, min_percent = 0.6, frame_skip=0, downscale_factor=3, scenes=14\n",
    "\n",
    "ContentDetector + ThresholdDetector:\n",
    "\n",
    "Threshold=80, min_percent = 0.8, frame_skip=0, downscale_factor=3, scenes=19\n",
    "\n",
    "Threshold=80, min_percent = 0.8, frame_skip=0, downscale_factor=3, scenes=21\n",
    "\n",
    "Threshold=80, min_percent = 0.8, frame_skip=1, downscale_factor=3, scenes=35\n",
    "\n",
    "Threshold=80, min_percent = 0.9, frame_skip=1, downscale_factor=3, scenes=32"
   ]
  },
  {
   "cell_type": "code",
   "execution_count": null,
   "metadata": {
    "collapsed": true
   },
   "outputs": [],
   "source": [
    "import cv2\n",
    "print(cv2.__version__)"
   ]
  },
  {
   "cell_type": "code",
   "execution_count": null,
   "metadata": {
    "collapsed": true
   },
   "outputs": [],
   "source": [
    "#videoClip.reader.close()\n",
    "#videoClip.audio.reader.close_proc()\n",
    "orb = cv2.ORB_create()\n",
    "surf = cv2.xfeatures2d.SURF_create(hessianThreshold=10000, nOctaves=15, upright=1)\n",
    "print(videoFileName)\n",
    "#videoClip = VideoFileClip(videoFileName)\n",
    "scenes=sorted([s/video_framerate for s in scene_list])\n",
    "for idx, scene in enumerate(scenes[:-1]):\n",
    "    fPath=join(dirpath,\"frame{:d}.jpg\".format(idx))\n",
    "    videoClip.save_frame(fPath, t=scene+0.25)\n",
    "    img = cv2.imread(fPath,0)\n",
    "    kp, des = surf.detectAndCompute(img,None)\n",
    "    print(idx+1,'len=',scenes[idx+1]-scene,len(kp))\n",
    "    img2 = cv2.drawKeypoints(img,kp,None,(255,0,0),4)\n",
    "    plt.imshow(img2),plt.show()\n",
    "#videoClip.set(cv2.CAP_PROP_POS_MSEC, 653514)\n",
    "#success,image = videoClip.read()\n",
    "#cv2.imwrite(os.path.join(dirpath,\"frame{:d}.jpg\".format(1)), image)"
   ]
  },
  {
   "cell_type": "code",
   "execution_count": null,
   "metadata": {
    "collapsed": true
   },
   "outputs": [],
   "source": [
    "scenes[:-1]"
   ]
  },
  {
   "cell_type": "markdown",
   "metadata": {},
   "source": [
    "# Play a video clip"
   ]
  },
  {
   "cell_type": "code",
   "execution_count": null,
   "metadata": {
    "collapsed": true
   },
   "outputs": [],
   "source": [
    "def getClip(path,offset,length):\n",
    "    videoClip = VideoFileClip(path).subclip(offset,offset+length)\n",
    "    print('Playing {0}, offset={1}, length={2}'.format(path,offset,length))\n",
    "    return videoClip"
   ]
  },
  {
   "cell_type": "code",
   "execution_count": null,
   "metadata": {
    "collapsed": true
   },
   "outputs": [],
   "source": [
    "clip = getClip(videoFileName,87, 119-87)  \n",
    "#clip = getClip(videoFileName,1798, 1830-1798)  \n",
    "#clip = getClip(videoFileName,2296, 2310-2296)  \n",
    "#clip = getClip(videoFileName,1669, 1685-1669)  \n",
    "#clip = getClip(videoFileName,478, 488-478)  \n",
    "#clip = getClip(videoFileName,1669, 1685-1669)  \n",
    "#clip = getClip(videoFileName,1188, 1200-1188)  \n",
    "#clip = getClip(videoFileName,1214, 1224-1214)  \n",
    "#clip = getClip(videoFileName,2362, 2379-2362)  \n",
    "\n",
    "clip.ipython_display(width=480, autoplay=True) "
   ]
  },
  {
   "cell_type": "code",
   "execution_count": null,
   "metadata": {
    "collapsed": true
   },
   "outputs": [],
   "source": []
  }
 ],
 "metadata": {
  "kernelspec": {
   "display_name": "Python 3",
   "language": "python",
   "name": "python3"
  },
  "language_info": {
   "codemirror_mode": {
    "name": "ipython",
    "version": 3
   },
   "file_extension": ".py",
   "mimetype": "text/x-python",
   "name": "python",
   "nbconvert_exporter": "python",
   "pygments_lexer": "ipython3",
   "version": "3.6.1"
  }
 },
 "nbformat": 4,
 "nbformat_minor": 2
}
