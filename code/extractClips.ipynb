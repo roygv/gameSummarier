{
 "cells": [
  {
   "cell_type": "code",
   "execution_count": 24,
   "metadata": {
    "collapsed": true
   },
   "outputs": [],
   "source": [
    "from moviepy.video.io.ffmpeg_tools import ffmpeg_extract_subclip\n",
    "import pandas as pd\n",
    "import os"
   ]
  },
  {
   "cell_type": "code",
   "execution_count": 41,
   "metadata": {},
   "outputs": [],
   "source": [
    "file_basename='AUG-BVB_1st_half_ENG'\n",
    "dirpath='/temp'\n",
    "fileName=os.path.join(dirpath, file_basename+'.csv')\n",
    "\n",
    "event_data=pd.read_csv(fileName, sep=',',header=0)"
   ]
  },
  {
   "cell_type": "code",
   "execution_count": 46,
   "metadata": {},
   "outputs": [
    {
     "name": "stdout",
     "output_type": "stream",
     "text": [
      "MON_V_MONT_1H_ESP.wav\n",
      "MON_V_MONT_1H_ESP.wav\n",
      "MON_V_MONT_1H_ESP.wav\n",
      "MON_V_MONT_1H_ESP.wav\n",
      "MON_V_MONT_1H_ESP.wav\n",
      "MON_V_MONT_1H_ESP.wav\n",
      "MON_V_MONT_1H_ESP.wav\n",
      "MON_V_MONT_2H_ESP.wav\n",
      "MON_V_MONT_2H_ESP.wav\n",
      "MON_V_MONT_2H_ESP.wav\n",
      "MON_V_MONT_2H_ESP.wav\n",
      "Writing clip # 11  from sec  180  length  5\n",
      "\n",
      "[MoviePy] Running:\n",
      ">>> ffmpeg -y -i /temp\\AUG-BVB_1st_half_ENG.mp4 -ss 180.00 -t 5.00 -vcodec copy -acodec copy /temp\\AUG-BVB_1st_half_ENG11.mp4\n",
      "... command successful.\n",
      "Writing clip # 12  from sec  305  length  5\n",
      "\n",
      "[MoviePy] Running:\n",
      ">>> ffmpeg -y -i /temp\\AUG-BVB_1st_half_ENG.mp4 -ss 305.00 -t 5.00 -vcodec copy -acodec copy /temp\\AUG-BVB_1st_half_ENG12.mp4\n",
      "... command successful.\n",
      "Writing clip # 13  from sec  320  length  5\n",
      "\n",
      "[MoviePy] Running:\n",
      ">>> ffmpeg -y -i /temp\\AUG-BVB_1st_half_ENG.mp4 -ss 320.00 -t 5.00 -vcodec copy -acodec copy /temp\\AUG-BVB_1st_half_ENG13.mp4\n",
      "... command successful.\n",
      "Writing clip # 14  from sec  367  length  6\n",
      "\n",
      "[MoviePy] Running:\n",
      ">>> ffmpeg -y -i /temp\\AUG-BVB_1st_half_ENG.mp4 -ss 367.00 -t 6.00 -vcodec copy -acodec copy /temp\\AUG-BVB_1st_half_ENG14.mp4\n",
      "... command successful.\n",
      "Writing clip # 15  from sec  750  length  5\n",
      "\n",
      "[MoviePy] Running:\n",
      ">>> ffmpeg -y -i /temp\\AUG-BVB_1st_half_ENG.mp4 -ss 750.00 -t 5.00 -vcodec copy -acodec copy /temp\\AUG-BVB_1st_half_ENG15.mp4\n",
      "... command successful.\n",
      "Writing clip # 16  from sec  762  length  5\n",
      "\n",
      "[MoviePy] Running:\n",
      ">>> ffmpeg -y -i /temp\\AUG-BVB_1st_half_ENG.mp4 -ss 762.00 -t 5.00 -vcodec copy -acodec copy /temp\\AUG-BVB_1st_half_ENG16.mp4\n",
      "... command successful.\n",
      "Writing clip # 17  from sec  1520  length  5\n",
      "\n",
      "[MoviePy] Running:\n",
      ">>> ffmpeg -y -i /temp\\AUG-BVB_1st_half_ENG.mp4 -ss 1520.00 -t 5.00 -vcodec copy -acodec copy /temp\\AUG-BVB_1st_half_ENG17.mp4\n",
      "... command successful.\n",
      "Writing clip # 18  from sec  1890  length  5\n",
      "\n",
      "[MoviePy] Running:\n",
      ">>> ffmpeg -y -i /temp\\AUG-BVB_1st_half_ENG.mp4 -ss 1890.00 -t 5.00 -vcodec copy -acodec copy /temp\\AUG-BVB_1st_half_ENG18.mp4\n",
      "... command successful.\n",
      "AUG-BVB_2nd_half_ENG.wav\n",
      "AUG-BVB_2nd_half_ENG.wav\n",
      "AUG-BVB_2nd_half_ENG.wav\n",
      "AUG-BVB_2nd_half_ENG.wav\n",
      "AUG-BVB_2nd_half_ENG.wav\n",
      "AUG-BVB_2nd_half_ENG.wav\n",
      "AUG-BVB_2nd_half_ENG.wav\n"
     ]
    }
   ],
   "source": [
    "fileName=os.path.join(dirpath, file_basename+'.mp4')\n",
    "for index, row in event_data.iterrows():\n",
    "    #print row['secondOffset'], row['timeToCapture']\n",
    "    if row['fileName'] == file_basename+'.wav':\n",
    "        outFileName=os.path.join(dirpath, file_basename+str(index)+'.mp4')\n",
    "        print 'Writing clip #',index,' from sec ',row['secondOffset'],' length ',row['timeToCapture']\n",
    "        ffmpeg_extract_subclip(fileName, row['secondOffset'], row['secondOffset']+row['timeToCapture'], targetname=outFileName)\n",
    "    else:\n",
    "        print 'Skipping ', row['fileName']"
   ]
  },
  {
   "cell_type": "markdown",
   "metadata": {},
   "source": [
    "# https://trac.ffmpeg.org/wiki/Concatenate"
   ]
  },
  {
   "cell_type": "code",
   "execution_count": null,
   "metadata": {
    "collapsed": true
   },
   "outputs": [],
   "source": []
  }
 ],
 "metadata": {
  "kernelspec": {
   "display_name": "Python 2",
   "language": "python",
   "name": "python2"
  },
  "language_info": {
   "codemirror_mode": {
    "name": "ipython",
    "version": 2
   },
   "file_extension": ".py",
   "mimetype": "text/x-python",
   "name": "python",
   "nbconvert_exporter": "python",
   "pygments_lexer": "ipython2",
   "version": "2.7.13"
  }
 },
 "nbformat": 4,
 "nbformat_minor": 2
}
